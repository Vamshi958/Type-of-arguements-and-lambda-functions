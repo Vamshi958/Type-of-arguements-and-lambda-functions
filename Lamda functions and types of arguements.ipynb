{
 "cells": [
  {
   "cell_type": "markdown",
   "id": "c44a62f1-d33c-4765-9aa3-7cbb9f8351f4",
   "metadata": {},
   "source": [
    "17.Accept a string as input. your task is to determine if the input strijng is a valid password or not. for a string to be a valid password, it must satisfy all the conditions given below:\n",
    "    1.it should have atleast 8 and at most 32 charcters\n",
    "    2.it should start with an uppercase or lowercase letter\n",
    "    3.it should not have any of these characters: /|='\"\n",
    "    4.it should not have spaces\n",
    "    it could have any character that is not mentioned in the list of characters to be avoided(points 3 and 4 .output true if string forms a valid password and false otherwise"
   ]
  },
  {
   "cell_type": "code",
   "execution_count": 2,
   "id": "1a7782f1-f506-4acd-bff6-b2ddb1ea1ccf",
   "metadata": {},
   "outputs": [],
   "source": [
    "def validpassword(pwd: str):\n",
    "        if 8 <= len(pwd) <=32 and pwd[0].isalpha() and all(char not in pwd for char in[\" \",\"'\",\"/\",\"=\",'\"',\"\\\\\"]):\n",
    "            print(\"valid paassword\")\n",
    "        else:\n",
    "            print(\"false\")\n",
    "     "
   ]
  },
  {
   "cell_type": "code",
   "execution_count": 3,
   "id": "d15f151d-cf0c-4e64-9580-411b5f4f495c",
   "metadata": {},
   "outputs": [
    {
     "name": "stdout",
     "output_type": "stream",
     "text": [
      "false\n"
     ]
    }
   ],
   "source": [
    "validpassword(\"'incjdjdjjd'[[[[\")"
   ]
  },
  {
   "cell_type": "code",
   "execution_count": 4,
   "id": "27d59087-b52f-4204-ab70-f4670d50c4d1",
   "metadata": {},
   "outputs": [
    {
     "name": "stdout",
     "output_type": "stream",
     "text": [
      "valid paassword\n"
     ]
    }
   ],
   "source": [
    "validpassword(\"inc12Ec56\")\n",
    "\n",
    "              "
   ]
  },
  {
   "cell_type": "code",
   "execution_count": 5,
   "id": "e8382f90-0554-441c-bb81-88e934736b10",
   "metadata": {},
   "outputs": [],
   "source": [
    "def greet():\n",
    "    message='hello'\n",
    "    print(\"local\",message)"
   ]
  },
  {
   "cell_type": "code",
   "execution_count": 6,
   "id": "2ce4ff76-b4da-4f36-bf82-253e381c525a",
   "metadata": {},
   "outputs": [
    {
     "name": "stdout",
     "output_type": "stream",
     "text": [
      "local hello\n"
     ]
    }
   ],
   "source": [
    "greet()"
   ]
  },
  {
   "cell_type": "code",
   "execution_count": 7,
   "id": "d65bb927-1c61-41db-92ae-d4b99e9a693a",
   "metadata": {},
   "outputs": [
    {
     "ename": "NameError",
     "evalue": "name 'message' is not defined",
     "output_type": "error",
     "traceback": [
      "\u001b[0;31m---------------------------------------------------------------------------\u001b[0m",
      "\u001b[0;31mNameError\u001b[0m                                 Traceback (most recent call last)",
      "Cell \u001b[0;32mIn[7], line 4\u001b[0m\n\u001b[1;32m      2\u001b[0m     message\u001b[38;5;241m=\u001b[39m\u001b[38;5;124m'\u001b[39m\u001b[38;5;124mhello\u001b[39m\u001b[38;5;124m'\u001b[39m\n\u001b[1;32m      3\u001b[0m     \u001b[38;5;28mprint\u001b[39m(\u001b[38;5;124m\"\u001b[39m\u001b[38;5;124mlocal\u001b[39m\u001b[38;5;124m\"\u001b[39m,message)\n\u001b[0;32m----> 4\u001b[0m \u001b[38;5;28mprint\u001b[39m(\u001b[43mmessage\u001b[49m)\n\u001b[1;32m      5\u001b[0m greet()\n",
      "\u001b[0;31mNameError\u001b[0m: name 'message' is not defined"
     ]
    }
   ],
   "source": [
    "def greet():\n",
    "    message='hello' #this is local variable created inside the function\n",
    "    print(\"local\",message)\n",
    "print(message)\n",
    "greet()                #we printed ouside fucntion it is not getting output      #getting error-cretaing variables in locally or globally"
   ]
  },
  {
   "cell_type": "code",
   "execution_count": 11,
   "id": "dde994db-3891-4fb5-92be-ef85d2160ff1",
   "metadata": {},
   "outputs": [
    {
     "name": "stdout",
     "output_type": "stream",
     "text": [
      "awesome\n"
     ]
    },
    {
     "ename": "NameError",
     "evalue": "name 'y' is not defined",
     "output_type": "error",
     "traceback": [
      "\u001b[0;31m---------------------------------------------------------------------------\u001b[0m",
      "\u001b[0;31mNameError\u001b[0m                                 Traceback (most recent call last)",
      "Cell \u001b[0;32mIn[11], line 6\u001b[0m\n\u001b[1;32m      4\u001b[0m     \u001b[38;5;28mprint\u001b[39m(x\u001b[38;5;241m+\u001b[39my)\n\u001b[1;32m      5\u001b[0m \u001b[38;5;28mprint\u001b[39m(x)\n\u001b[0;32m----> 6\u001b[0m \u001b[38;5;28mprint\u001b[39m(\u001b[43my\u001b[49m) \u001b[38;5;66;03m#we created variable inside function but if we try to call variable ouside function,we will get error\u001b[39;00m\n",
      "\u001b[0;31mNameError\u001b[0m: name 'y' is not defined"
     ]
    }
   ],
   "source": [
    "def add():\n",
    "    x=20\n",
    "    y=30\n",
    "    print(x+y)\n",
    "print(x)\n",
    "print(y) #we created variable inside function but if we try to call variable ouside function,we will get error"
   ]
  },
  {
   "cell_type": "code",
   "execution_count": 12,
   "id": "5f2766e1-b4d3-44f4-b084-e5f2a89e75e7",
   "metadata": {},
   "outputs": [
    {
     "name": "stdout",
     "output_type": "stream",
     "text": [
      "python is fantastic\n",
      "awesome\n"
     ]
    }
   ],
   "source": [
    "x='awesome' #global scope\n",
    "def myfunc():\n",
    "    x=\"fantastic\"\n",
    "    #local scope\n",
    "    print(\"python is \"+x)\n",
    "myfunc()\n",
    "print(x)"
   ]
  },
  {
   "cell_type": "code",
   "execution_count": 4,
   "id": "eb1d373a-c350-410c-8305-47c89ee2f0c7",
   "metadata": {},
   "outputs": [],
   "source": [
    "#to use global variable inside function\n",
    "x=20\n",
    "def add():\n",
    "    y=30\n",
    "    print(\"local variable y=\",y)\n",
    "    print(\"global variable x=\",x) \n",
    "    z=x+y\n",
    "    print(z)\n"
   ]
  },
  {
   "cell_type": "code",
   "execution_count": 3,
   "id": "a535f641-5a96-4d38-acab-b517e30a5bdf",
   "metadata": {},
   "outputs": [
    {
     "name": "stdout",
     "output_type": "stream",
     "text": [
      "local variable y= 30\n",
      "global variable x= 20\n",
      "50\n"
     ]
    }
   ],
   "source": [
    "add()"
   ]
  },
  {
   "cell_type": "code",
   "execution_count": 24,
   "id": "3bac1e4b-f478-4d8a-adc8-f5dd136396ed",
   "metadata": {},
   "outputs": [],
   "source": [
    "#python functional -arguements\n",
    "'''positional arguments\n",
    "   default\n",
    "keyword\n",
    "variable length arguments'''\n",
    "#1.positional arguements\n",
    "def add_numbers(a,b):\n",
    "    sum=a+b\n",
    "    print(\"sum\",sum)\n"
   ]
  },
  {
   "cell_type": "code",
   "execution_count": 7,
   "id": "7ebac9c5-df6e-441b-9048-8b41f0ce743f",
   "metadata": {},
   "outputs": [
    {
     "ename": "TypeError",
     "evalue": "add_numbers() missing 2 required positional arguments: 'a' and 'b'",
     "output_type": "error",
     "traceback": [
      "\u001b[0;31m---------------------------------------------------------------------------\u001b[0m",
      "\u001b[0;31mTypeError\u001b[0m                                 Traceback (most recent call last)",
      "Cell \u001b[0;32mIn[7], line 1\u001b[0m\n\u001b[0;32m----> 1\u001b[0m \u001b[43madd_numbers\u001b[49m\u001b[43m(\u001b[49m\u001b[43m)\u001b[49m       \u001b[38;5;66;03m#no given inputs-positional arguemnts need to give\u001b[39;00m\n",
      "\u001b[0;31mTypeError\u001b[0m: add_numbers() missing 2 required positional arguments: 'a' and 'b'"
     ]
    }
   ],
   "source": [
    "add_numbers()       #no given inputs-positional arguemnts need to give"
   ]
  },
  {
   "cell_type": "code",
   "execution_count": 8,
   "id": "ef5b2fca-cabe-42a7-9bf1-bcc89e0d989b",
   "metadata": {},
   "outputs": [
    {
     "name": "stdout",
     "output_type": "stream",
     "text": [
      "sum 5\n"
     ]
    }
   ],
   "source": [
    "add_numbers(2,3)"
   ]
  },
  {
   "cell_type": "code",
   "execution_count": 9,
   "id": "7feb3e93-956c-4180-b4e2-67e4240b257d",
   "metadata": {},
   "outputs": [],
   "source": [
    "def empl_name(name):\n",
    "    print(\"my name is\",name)"
   ]
  },
  {
   "cell_type": "code",
   "execution_count": 11,
   "id": "772c0916-19f4-4775-a57d-2632104c51c2",
   "metadata": {},
   "outputs": [
    {
     "name": "stdout",
     "output_type": "stream",
     "text": [
      "my name is vamshi\n"
     ]
    }
   ],
   "source": [
    "empl_name(\"vamshi\")"
   ]
  },
  {
   "cell_type": "code",
   "execution_count": 12,
   "id": "c0cd8360-c8ed-4b41-a0b7-ce2e41d8e8e9",
   "metadata": {},
   "outputs": [],
   "source": [
    "#default arguments\n",
    "def add_numbers(a=4,b=5):\n",
    "    sum=a+b\n",
    "    print(\"sum\",sum)"
   ]
  },
  {
   "cell_type": "code",
   "execution_count": 14,
   "id": "2b9075de-8528-405f-80f8-ec291aa091c1",
   "metadata": {},
   "outputs": [
    {
     "name": "stdout",
     "output_type": "stream",
     "text": [
      "sum 9\n"
     ]
    }
   ],
   "source": [
    "add_numbers() #it taok default value\n"
   ]
  },
  {
   "cell_type": "code",
   "execution_count": 16,
   "id": "b482bf5d-ed22-41d2-a968-86a029115c45",
   "metadata": {},
   "outputs": [
    {
     "name": "stdout",
     "output_type": "stream",
     "text": [
      "sum 14\n"
     ]
    }
   ],
   "source": [
    "add_numbers(4,10) #if we are giving positional arguments it takje this as input and performing. if we didnt gave any number it took default value and performing"
   ]
  },
  {
   "cell_type": "code",
   "execution_count": 18,
   "id": "a0ab2ddb-552a-45be-897d-554d41336f46",
   "metadata": {},
   "outputs": [],
   "source": [
    "def empl_name(name=\"vamshi\"):\n",
    "    print(\"my name is\",name)"
   ]
  },
  {
   "cell_type": "code",
   "execution_count": 22,
   "id": "c0a2cbb3-07dc-4fcf-a7ae-be84ff1b0258",
   "metadata": {},
   "outputs": [
    {
     "name": "stdout",
     "output_type": "stream",
     "text": [
      "my name is vamshi\n"
     ]
    }
   ],
   "source": [
    "empl_name()#taking default value"
   ]
  },
  {
   "cell_type": "code",
   "execution_count": 23,
   "id": "888db3d2-a909-4294-9e15-59cb0d7fae93",
   "metadata": {},
   "outputs": [
    {
     "name": "stdout",
     "output_type": "stream",
     "text": [
      "my name is krishna\n"
     ]
    }
   ],
   "source": [
    "empl_name(\"krishna\")  #taking positional value"
   ]
  },
  {
   "cell_type": "code",
   "execution_count": 4,
   "id": "2210a628-f332-4864-9d03-9b5db63fbbef",
   "metadata": {},
   "outputs": [],
   "source": [
    "#keyword arguements\n",
    "def display_info(first_name,last_name):\n",
    "    print(\"first name\",first_name)\n",
    "    print(\"last name\",last_name)"
   ]
  },
  {
   "cell_type": "code",
   "execution_count": 5,
   "id": "f49d8a2f-6463-4ece-8a0e-7f6b728180aa",
   "metadata": {},
   "outputs": [
    {
     "name": "stdout",
     "output_type": "stream",
     "text": [
      "first name pw\n",
      "last name skills\n"
     ]
    }
   ],
   "source": [
    "display_info(first_name=\"pw\",last_name=\"skills\")"
   ]
  },
  {
   "cell_type": "code",
   "execution_count": 7,
   "id": "286247aa-a196-48de-a832-c148e6f8ddb8",
   "metadata": {},
   "outputs": [
    {
     "name": "stdout",
     "output_type": "stream",
     "text": [
      "first name pw\n",
      "last name skills\n"
     ]
    }
   ],
   "source": [
    "display_info(last_name=\"skills\",first_name=\"pw\") #keyword -specifically mentioning what is what"
   ]
  },
  {
   "cell_type": "code",
   "execution_count": 8,
   "id": "ca46f8ba-8c4c-444f-9938-6740bc1a03f5",
   "metadata": {},
   "outputs": [],
   "source": [
    "def add_numbers(a,b):\n",
    "    sum=a+b\n",
    "    print(\"sum\",sum)"
   ]
  },
  {
   "cell_type": "code",
   "execution_count": 9,
   "id": "ce983579-d255-47b5-9a5a-f2ad25c4bd9e",
   "metadata": {},
   "outputs": [
    {
     "name": "stdout",
     "output_type": "stream",
     "text": [
      "sum 11\n"
     ]
    }
   ],
   "source": [
    "add_numbers(a=4,b=7)"
   ]
  },
  {
   "cell_type": "code",
   "execution_count": 12,
   "id": "262332d5-d467-4890-99b2-532ef718d437",
   "metadata": {},
   "outputs": [
    {
     "name": "stdout",
     "output_type": "stream",
     "text": [
      "sum 11\n"
     ]
    }
   ],
   "source": [
    "add_numbers(b=7,a=4) #by using keyword you can pass value in any order"
   ]
  },
  {
   "cell_type": "code",
   "execution_count": 13,
   "id": "764f7a03-d984-4e6c-8bb2-ab8f083e6cfc",
   "metadata": {},
   "outputs": [],
   "source": [
    "#*args -arguements  and **kwargs-keyword arguements   ----variable length-function dont know how many inputs it will take\n",
    "#*beside star you can use any name\n"
   ]
  },
  {
   "cell_type": "code",
   "execution_count": 20,
   "id": "1bcd0819-9cb7-48e2-818a-f1d7a59a5b33",
   "metadata": {},
   "outputs": [],
   "source": [
    "def find_num(*numbers):#user can pass n number of inputs\n",
    "    result=0\n",
    "    for num in numbers:\n",
    "         result=result+num\n",
    "    print(\"sum\",result)"
   ]
  },
  {
   "cell_type": "code",
   "execution_count": 21,
   "id": "e45bf8a9-2f62-4117-b001-bc9cc9653fcc",
   "metadata": {},
   "outputs": [
    {
     "name": "stdout",
     "output_type": "stream",
     "text": [
      "sum 0\n"
     ]
    }
   ],
   "source": [
    "find_num()"
   ]
  },
  {
   "cell_type": "code",
   "execution_count": 22,
   "id": "12f6639b-57dc-47b3-9dfd-32f7f8bd39e3",
   "metadata": {},
   "outputs": [
    {
     "name": "stdout",
     "output_type": "stream",
     "text": [
      "sum 6\n"
     ]
    }
   ],
   "source": [
    "find_num(1,2,3)"
   ]
  },
  {
   "cell_type": "code",
   "execution_count": 24,
   "id": "7cbe16c0-740f-4a3c-a614-c52dd3731a01",
   "metadata": {},
   "outputs": [
    {
     "name": "stdout",
     "output_type": "stream",
     "text": [
      "sum 45\n"
     ]
    }
   ],
   "source": [
    "find_num(1,2,3,4,5,6,7,8,9) #meaning of *is it can take n number of input-it accepting variable length"
   ]
  },
  {
   "cell_type": "code",
   "execution_count": 25,
   "id": "a74f71b4-17a4-4b61-b1d4-398ce34edb05",
   "metadata": {},
   "outputs": [
    {
     "name": "stdout",
     "output_type": "stream",
     "text": [
      "sum 58\n"
     ]
    }
   ],
   "source": [
    "find_num(1,2,3,4,5,6,7,8,9,10,1,2)"
   ]
  },
  {
   "cell_type": "code",
   "execution_count": 30,
   "id": "d5d14432-ad04-405f-b141-4f6254d0b810",
   "metadata": {},
   "outputs": [],
   "source": [
    "def simple(*x):      # *-means that accepting n number of inputs\n",
    "    print(x)"
   ]
  },
  {
   "cell_type": "code",
   "execution_count": 27,
   "id": "b4b77906-fcd4-4917-80c6-9c8585b550cd",
   "metadata": {},
   "outputs": [
    {
     "name": "stdout",
     "output_type": "stream",
     "text": [
      "()\n"
     ]
    }
   ],
   "source": [
    "simple()"
   ]
  },
  {
   "cell_type": "code",
   "execution_count": 28,
   "id": "9e6c9bbe-852b-4b44-a702-a0116d1be5da",
   "metadata": {},
   "outputs": [
    {
     "name": "stdout",
     "output_type": "stream",
     "text": [
      "(1, 2, 3, 4)\n"
     ]
    }
   ],
   "source": [
    "simple(1,2,3,4)"
   ]
  },
  {
   "cell_type": "code",
   "execution_count": 29,
   "id": "83741b5b-5f0e-4139-871e-5eea0edba68e",
   "metadata": {},
   "outputs": [
    {
     "name": "stdout",
     "output_type": "stream",
     "text": [
      "(1, 2, 3, 4, 5, 6, 7)\n"
     ]
    }
   ],
   "source": [
    "simple(1,2,3,4,5,6,7)"
   ]
  },
  {
   "cell_type": "code",
   "execution_count": 63,
   "id": "8ed271c0-0cce-489b-a61f-847a2c3be5d7",
   "metadata": {},
   "outputs": [],
   "source": [
    "#     **kwargs-you need to pass keyword-gives output as dictionary\n",
    "def intro(**data):\n",
    "    print(\"data type of argument\",type(data))\n",
    "    for key,value in data.items():\n",
    "        print(key,value)\n"
   ]
  },
  {
   "cell_type": "code",
   "execution_count": 37,
   "id": "91de4d91-f5c8-409c-8634-b56ae5051bab",
   "metadata": {},
   "outputs": [
    {
     "name": "stdout",
     "output_type": "stream",
     "text": [
      "data type of argument <class 'dict'>\n",
      "first_name pw\n",
      "last_name skills\n"
     ]
    }
   ],
   "source": [
    "intro(first_name=\"pw\",last_name=\"skills\")"
   ]
  },
  {
   "cell_type": "code",
   "execution_count": 34,
   "id": "6a807a01-62cb-43a4-b857-dc19637cd65a",
   "metadata": {},
   "outputs": [
    {
     "name": "stdout",
     "output_type": "stream",
     "text": [
      "a 1\n",
      "b 2\n"
     ]
    }
   ],
   "source": [
    "x={\"a\":1,\"b\":2}\n",
    "for keys,value in x.items():\n",
    "    print(keys,value)"
   ]
  },
  {
   "cell_type": "code",
   "execution_count": 35,
   "id": "161ff389-0dc8-4cf3-b862-5fc3cfe84899",
   "metadata": {},
   "outputs": [
    {
     "data": {
      "text/plain": [
       "dict_items([('a', 1), ('b', 2)])"
      ]
     },
     "execution_count": 35,
     "metadata": {},
     "output_type": "execute_result"
    }
   ],
   "source": [
    "x.items()"
   ]
  },
  {
   "cell_type": "code",
   "execution_count": 38,
   "id": "1f86603f-f743-47d8-b10d-068ffb43bfbd",
   "metadata": {},
   "outputs": [],
   "source": [
    "def simple(**x):\n",
    "    print(x)"
   ]
  },
  {
   "cell_type": "code",
   "execution_count": 41,
   "id": "401889d2-c27d-4d8c-b797-4f419c9af3b0",
   "metadata": {},
   "outputs": [
    {
     "name": "stdout",
     "output_type": "stream",
     "text": [
      "{'name': 'pw', 'age': 24, 'id_no': 23}\n"
     ]
    }
   ],
   "source": [
    "simple(name=\"pw\",age=24,id_no=23)"
   ]
  },
  {
   "cell_type": "code",
   "execution_count": 42,
   "id": "740db03c-8b9c-4af8-8f65-ef55828d7fc9",
   "metadata": {},
   "outputs": [],
   "source": [
    "def simple1(*y):\n",
    "    print(y)"
   ]
  },
  {
   "cell_type": "code",
   "execution_count": 43,
   "id": "13156d38-24b8-42d2-a815-64b595819930",
   "metadata": {},
   "outputs": [
    {
     "name": "stdout",
     "output_type": "stream",
     "text": [
      "(2, 3)\n"
     ]
    }
   ],
   "source": [
    "simple1(2,3)"
   ]
  },
  {
   "cell_type": "code",
   "execution_count": 44,
   "id": "f4637812-2498-49f4-8bf7-b58ae99fab81",
   "metadata": {},
   "outputs": [
    {
     "name": "stdout",
     "output_type": "stream",
     "text": [
      "(2, 3, 4, 5, 6)\n"
     ]
    }
   ],
   "source": [
    "simple1(2,3,4,5,6)"
   ]
  },
  {
   "cell_type": "code",
   "execution_count": 45,
   "id": "90d7d013-4c44-443d-bc72-d150779b6af3",
   "metadata": {},
   "outputs": [],
   "source": [
    "def simple(**x):\n",
    "    print(x)"
   ]
  },
  {
   "cell_type": "code",
   "execution_count": 46,
   "id": "10007b24-9132-435b-b929-2bcab177e45b",
   "metadata": {},
   "outputs": [
    {
     "name": "stdout",
     "output_type": "stream",
     "text": [
      "{'name': 'vamshi'}\n"
     ]
    }
   ],
   "source": [
    "simple(name=\"vamshi\")"
   ]
  },
  {
   "cell_type": "code",
   "execution_count": 48,
   "id": "f9576324-62b4-42d4-b173-e978fcd57d1a",
   "metadata": {},
   "outputs": [
    {
     "name": "stdout",
     "output_type": "stream",
     "text": [
      "{'name': 'vamshi', 'age': 45}\n"
     ]
    }
   ],
   "source": [
    "simple(name=\"vamshi\",age=45)  #output will be in dictionary,give input in key and value"
   ]
  },
  {
   "cell_type": "code",
   "execution_count": 49,
   "id": "94ae8be7-a947-4f2b-af43-faf6830ce352",
   "metadata": {},
   "outputs": [],
   "source": [
    "def shownumbers(*x):\n",
    "    print(x)"
   ]
  },
  {
   "cell_type": "code",
   "execution_count": 51,
   "id": "83f66998-cabf-4f20-a64f-73b465fdb145",
   "metadata": {},
   "outputs": [
    {
     "name": "stdout",
     "output_type": "stream",
     "text": [
      "(1,)\n"
     ]
    }
   ],
   "source": [
    "shownumbers(1)"
   ]
  },
  {
   "cell_type": "code",
   "execution_count": 52,
   "id": "cf2df24d-af18-4a8e-bdbc-68237d27250b",
   "metadata": {},
   "outputs": [
    {
     "name": "stdout",
     "output_type": "stream",
     "text": [
      "(1, 2, 3, 4, 5)\n"
     ]
    }
   ],
   "source": [
    "shownumbers(1,2,3,4,5)"
   ]
  },
  {
   "cell_type": "code",
   "execution_count": 53,
   "id": "2cc518ca-878e-44d3-a7b3-4dbb2d465233",
   "metadata": {},
   "outputs": [],
   "source": [
    "def showkeyvalue(**y):\n",
    "    print(y)"
   ]
  },
  {
   "cell_type": "code",
   "execution_count": 55,
   "id": "6c7b13da-6432-47f8-8ec9-34fb77317206",
   "metadata": {},
   "outputs": [
    {
     "name": "stdout",
     "output_type": "stream",
     "text": [
      "{'x': 1, 'y': 2}\n"
     ]
    }
   ],
   "source": [
    "showkeyvalue(x=1,y=2)"
   ]
  },
  {
   "cell_type": "code",
   "execution_count": 56,
   "id": "e3ef1801-fc19-4b75-8a4e-8e33d1f8dc68",
   "metadata": {},
   "outputs": [
    {
     "name": "stdout",
     "output_type": "stream",
     "text": [
      "{'x': 1, 'y': 2, 'w': 2, 'u': 'pw'}\n"
     ]
    }
   ],
   "source": [
    "showkeyvalue(x=1,y=2,w=2,u=\"pw\")"
   ]
  },
  {
   "cell_type": "code",
   "execution_count": 57,
   "id": "311ca97d-27f3-4903-af2c-c11b33d62147",
   "metadata": {},
   "outputs": [
    {
     "ename": "TypeError",
     "evalue": "showkeyvalue() takes 0 positional arguments but 1 was given",
     "output_type": "error",
     "traceback": [
      "\u001b[0;31m---------------------------------------------------------------------------\u001b[0m",
      "\u001b[0;31mTypeError\u001b[0m                                 Traceback (most recent call last)",
      "Cell \u001b[0;32mIn[57], line 1\u001b[0m\n\u001b[0;32m----> 1\u001b[0m \u001b[43mshowkeyvalue\u001b[49m\u001b[43m(\u001b[49m\u001b[38;5;241;43m2\u001b[39;49m\u001b[43m)\u001b[49m\n",
      "\u001b[0;31mTypeError\u001b[0m: showkeyvalue() takes 0 positional arguments but 1 was given"
     ]
    }
   ],
   "source": [
    "showkeyvalue(2)  #error 1 is given"
   ]
  },
  {
   "cell_type": "code",
   "execution_count": 58,
   "id": "15d964ca-e18b-4e64-8e16-5833f947a34f",
   "metadata": {},
   "outputs": [
    {
     "ename": "TypeError",
     "evalue": "showkeyvalue() takes 0 positional arguments but 2 were given",
     "output_type": "error",
     "traceback": [
      "\u001b[0;31m---------------------------------------------------------------------------\u001b[0m",
      "\u001b[0;31mTypeError\u001b[0m                                 Traceback (most recent call last)",
      "Cell \u001b[0;32mIn[58], line 1\u001b[0m\n\u001b[0;32m----> 1\u001b[0m \u001b[43mshowkeyvalue\u001b[49m\u001b[43m(\u001b[49m\u001b[38;5;241;43m2\u001b[39;49m\u001b[43m,\u001b[49m\u001b[38;5;241;43m3\u001b[39;49m\u001b[43m)\u001b[49m\n",
      "\u001b[0;31mTypeError\u001b[0m: showkeyvalue() takes 0 positional arguments but 2 were given"
     ]
    }
   ],
   "source": [
    "showkeyvalue(2,3)"
   ]
  },
  {
   "cell_type": "code",
   "execution_count": 59,
   "id": "c5a5ee77-993d-4fd2-a607-97d4618506fe",
   "metadata": {},
   "outputs": [
    {
     "name": "stdout",
     "output_type": "stream",
     "text": [
      "{'x': 3}\n"
     ]
    }
   ],
   "source": [
    "showkeyvalue(x=3)"
   ]
  },
  {
   "cell_type": "code",
   "execution_count": 62,
   "id": "88a3ffd8-bb2f-440d-a641-058fccff156e",
   "metadata": {},
   "outputs": [
    {
     "name": "stdout",
     "output_type": "stream",
     "text": [
      "127\n"
     ]
    }
   ],
   "source": [
    "def sum(a,*b):\n",
    "    c=a\n",
    "    for i in b:\n",
    "        c=c+i\n",
    "    print(c)\n",
    "sum(5,6,34,78,1,1,1,1)"
   ]
  },
  {
   "cell_type": "code",
   "execution_count": 4,
   "id": "4f1882c5-dbd3-4fd7-9105-64d79121c4c3",
   "metadata": {},
   "outputs": [],
   "source": [
    "#lamda function- anonymous function\n",
    "#syntax -lamda arguments:expression\n",
    "\n",
    "addnum=lambda a,b:a+b\n",
    "\n",
    "\n"
   ]
  },
  {
   "cell_type": "code",
   "execution_count": 5,
   "id": "4e37f340-6430-4e9f-ab3b-10ca7a4a659e",
   "metadata": {},
   "outputs": [
    {
     "data": {
      "text/plain": [
       "5"
      ]
     },
     "execution_count": 5,
     "metadata": {},
     "output_type": "execute_result"
    }
   ],
   "source": [
    "addnum(2,3)"
   ]
  },
  {
   "cell_type": "code",
   "execution_count": 7,
   "id": "b0588378-d85a-45df-9346-874eed14e89d",
   "metadata": {},
   "outputs": [],
   "source": [
    "multi=lambda a,b:a*b"
   ]
  },
  {
   "cell_type": "code",
   "execution_count": 8,
   "id": "82640688-f5ee-4a1f-bdd9-c1254f0198b8",
   "metadata": {},
   "outputs": [
    {
     "data": {
      "text/plain": [
       "12"
      ]
     },
     "execution_count": 8,
     "metadata": {},
     "output_type": "execute_result"
    }
   ],
   "source": [
    "multi(3,4)"
   ]
  },
  {
   "cell_type": "code",
   "execution_count": 11,
   "id": "e38d2412-6f99-408d-812c-c5ce649c260e",
   "metadata": {},
   "outputs": [
    {
     "name": "stdin",
     "output_type": "stream",
     "text": [
      "enter first number 2\n",
      "enter second number 3\n"
     ]
    },
    {
     "name": "stdout",
     "output_type": "stream",
     "text": [
      "(4, 9)\n"
     ]
    }
   ],
   "source": [
    "a=int(input(\"enter first number\"))\n",
    "b=int(input(\"enter second number\"))\n",
    "square=lambda a,b:(a**2,b**2)\n",
    "print(square(a,b))"
   ]
  },
  {
   "cell_type": "code",
   "execution_count": 36,
   "id": "ca3b5d02-0a49-492f-9880-f14a9fc59f14",
   "metadata": {},
   "outputs": [],
   "source": [
    "def evenodd(n): #without using lamda\n",
    "    if n%2==0:\n",
    "        print(\"n is even\")\n",
    "    else:\n",
    "        print(\"n is odd\")\n",
    "    "
   ]
  },
  {
   "cell_type": "code",
   "execution_count": 37,
   "id": "2e67f22e-45fa-407c-941d-153b62d0c7a2",
   "metadata": {},
   "outputs": [
    {
     "name": "stdout",
     "output_type": "stream",
     "text": [
      "n is even\n"
     ]
    }
   ],
   "source": [
    "evenodd(8)"
   ]
  },
  {
   "cell_type": "code",
   "execution_count": 38,
   "id": "e31b32a3-13ad-436c-aa4d-748ddf74c4c6",
   "metadata": {},
   "outputs": [],
   "source": [
    "#number is even or not\n",
    "square=lambda n: \"number is even\" if n%2==0 else \"number is odd\"\n"
   ]
  },
  {
   "cell_type": "code",
   "execution_count": 39,
   "id": "0552a3f9-75ca-4322-a5dc-d8ab6920e297",
   "metadata": {},
   "outputs": [
    {
     "data": {
      "text/plain": [
       "'number is even'"
      ]
     },
     "execution_count": 39,
     "metadata": {},
     "output_type": "execute_result"
    }
   ],
   "source": [
    "square(2)"
   ]
  },
  {
   "cell_type": "code",
   "execution_count": 40,
   "id": "66529a33-f1e5-43a0-bb39-20142f90c879",
   "metadata": {},
   "outputs": [
    {
     "data": {
      "text/plain": [
       "'number is odd'"
      ]
     },
     "execution_count": 40,
     "metadata": {},
     "output_type": "execute_result"
    }
   ],
   "source": [
    "square(3)"
   ]
  },
  {
   "cell_type": "code",
   "execution_count": 41,
   "id": "5945b495-66c6-4ef7-b832-ab9ca2c39788",
   "metadata": {},
   "outputs": [],
   "source": [
    "#write a lamda functions that accepts 2 arguements and returns the greter amongst them\n",
    "great=lambda m,n: m if m>n else b\n"
   ]
  },
  {
   "cell_type": "code",
   "execution_count": 43,
   "id": "eeec8dac-1c3c-4566-879b-0a826aa84277",
   "metadata": {},
   "outputs": [
    {
     "data": {
      "text/plain": [
       "3"
      ]
     },
     "execution_count": 43,
     "metadata": {},
     "output_type": "execute_result"
    }
   ],
   "source": [
    "great(2,3)\n"
   ]
  },
  {
   "cell_type": "code",
   "execution_count": 46,
   "id": "eedd62f1-ed74-45d8-965d-3582485c1db6",
   "metadata": {},
   "outputs": [],
   "source": [
    "sum=lambda a,b,c: (a+b+c)"
   ]
  },
  {
   "cell_type": "code",
   "execution_count": 47,
   "id": "5584c6a4-6a08-43a7-9bf3-77be46926798",
   "metadata": {},
   "outputs": [
    {
     "data": {
      "text/plain": [
       "6"
      ]
     },
     "execution_count": 47,
     "metadata": {},
     "output_type": "execute_result"
    }
   ],
   "source": [
    "sum(1,2,3)"
   ]
  },
  {
   "cell_type": "code",
   "execution_count": 52,
   "id": "69f41c9c-fba4-4941-95fc-0af0647fe3a2",
   "metadata": {},
   "outputs": [],
   "source": [
    "#real case example\n",
    "products=[{\"name\":\"product1\",\"price\":50},\n",
    "          {\"name\":\"product2\",\"price\":30},\n",
    "          {\"name\":\"product3\",\"price\":40},\n",
    "          {\"name\":\"product4\",\"price\":60}]\n",
    "#want to extract price or values-want to sort it based on price\n",
    "sorted_products=sorted (products,key=lambda x:x[\"price\"])  #sorted is inbuilt functions-it takes two arguments\n"
   ]
  },
  {
   "cell_type": "code",
   "execution_count": 51,
   "id": "6477a106-0f0d-475a-9296-c7b7b213c580",
   "metadata": {},
   "outputs": [
    {
     "name": "stdout",
     "output_type": "stream",
     "text": [
      "{'name': 'product2', 'price': 30}\n",
      "{'name': 'product3', 'price': 40}\n",
      "{'name': 'product1', 'price': 50}\n",
      "{'name': 'product4', 'price': 60}\n"
     ]
    }
   ],
   "source": [
    "for i in sorted_products:\n",
    "    print(i)"
   ]
  },
  {
   "cell_type": "code",
   "execution_count": 53,
   "id": "84f5d29b-f841-4ef2-93d0-41b51a0e9fca",
   "metadata": {},
   "outputs": [
    {
     "data": {
      "text/plain": [
       "[{'name': 'product2', 'price': 30},\n",
       " {'name': 'product3', 'price': 40},\n",
       " {'name': 'product1', 'price': 50},\n",
       " {'name': 'product4', 'price': 60}]"
      ]
     },
     "execution_count": 53,
     "metadata": {},
     "output_type": "execute_result"
    }
   ],
   "source": [
    "sorted_products"
   ]
  },
  {
   "cell_type": "code",
   "execution_count": 3,
   "id": "91b04437-31ca-4433-b07a-74a1326bd7da",
   "metadata": {},
   "outputs": [],
   "source": [
    "x={\"name\":\"product1\",\"price\":50}"
   ]
  },
  {
   "cell_type": "code",
   "execution_count": 4,
   "id": "828dca3f-7dac-4dfc-885e-1ae61d03a9c2",
   "metadata": {},
   "outputs": [],
   "source": [
    "key=lambda x:x[\"price\"]"
   ]
  },
  {
   "cell_type": "code",
   "execution_count": 5,
   "id": "60c01790-c604-473b-8464-3296dccb59a8",
   "metadata": {},
   "outputs": [
    {
     "data": {
      "text/plain": [
       "<function __main__.<lambda>(x)>"
      ]
     },
     "execution_count": 5,
     "metadata": {},
     "output_type": "execute_result"
    }
   ],
   "source": [
    "key"
   ]
  },
  {
   "cell_type": "code",
   "execution_count": 6,
   "id": "d8600092-ce97-4bbe-bbcc-cd000fd2e326",
   "metadata": {},
   "outputs": [
    {
     "data": {
      "text/plain": [
       "50"
      ]
     },
     "execution_count": 6,
     "metadata": {},
     "output_type": "execute_result"
    }
   ],
   "source": [
    "x[\"price\"]"
   ]
  },
  {
   "cell_type": "code",
   "execution_count": null,
   "id": "9b868ad6-b45e-4bb7-976d-eacf5ecfefd7",
   "metadata": {},
   "outputs": [],
   "source": [
    "#write lambda expression that accepts a chracter as arguemnt and return true if it is a vowel otherwise false\n",
    "#a e i o u\n",
    "#imran\n",
    "#output -i a\n"
   ]
  },
  {
   "cell_type": "code",
   "execution_count": 7,
   "id": "5d975dfd-c2cc-49cd-b6c7-aa29855f5e4a",
   "metadata": {},
   "outputs": [
    {
     "name": "stdin",
     "output_type": "stream",
     "text": [
      "enter a string: vamshi\n"
     ]
    },
    {
     "data": {
      "text/plain": [
       "['a', 'i']"
      ]
     },
     "execution_count": 7,
     "metadata": {},
     "output_type": "execute_result"
    }
   ],
   "source": [
    "vowels =[\"a\",\"e\",\"i\",\"o\",\"u\",\"A\",\"E\",\"I\",\"O\",\"U\"]\n",
    "string=input(\"enter a string:\")\n",
    "\n",
    "vowels_list = [string[i] for i in range(len(string)) if string[i] in vowels]\n",
    "vowels_list"
   ]
  },
  {
   "cell_type": "code",
   "execution_count": null,
   "id": "72b92d88-7193-4e1f-8ee1-908f63efbfec",
   "metadata": {},
   "outputs": [],
   "source": [
    "#filter\n",
    "#map\n",
    "#reduce"
   ]
  },
  {
   "cell_type": "code",
   "execution_count": 9,
   "id": "89916bf1-e5f3-47ab-b3af-9f55a659d7ab",
   "metadata": {},
   "outputs": [
    {
     "data": {
      "text/plain": [
       "10"
      ]
     },
     "execution_count": 9,
     "metadata": {},
     "output_type": "execute_result"
    }
   ],
   "source": [
    "x=-10\n",
    "abs(x)   #built in function"
   ]
  },
  {
   "cell_type": "code",
   "execution_count": 10,
   "id": "ba29935b-5728-405b-959c-e985a217a37f",
   "metadata": {},
   "outputs": [
    {
     "data": {
      "text/plain": [
       "139937453425008"
      ]
     },
     "execution_count": 10,
     "metadata": {},
     "output_type": "execute_result"
    }
   ],
   "source": [
    "x=5\n",
    "id(x)"
   ]
  },
  {
   "cell_type": "code",
   "execution_count": 11,
   "id": "d29d8aa8-dbee-4392-8deb-954d58b4578f",
   "metadata": {},
   "outputs": [],
   "source": [
    "l=[1,2,3,4]"
   ]
  },
  {
   "cell_type": "code",
   "execution_count": 12,
   "id": "ff0f9a55-2ff7-489b-bbad-a60ecfab1717",
   "metadata": {},
   "outputs": [
    {
     "data": {
      "text/plain": [
       "4"
      ]
     },
     "execution_count": 12,
     "metadata": {},
     "output_type": "execute_result"
    }
   ],
   "source": [
    "max(l)"
   ]
  },
  {
   "cell_type": "code",
   "execution_count": 13,
   "id": "a660ba7d-5f28-47c3-962c-0205e12b068b",
   "metadata": {},
   "outputs": [],
   "source": [
    "y=str(x)"
   ]
  },
  {
   "cell_type": "code",
   "execution_count": 14,
   "id": "f0210ddd-9057-4521-a50b-fbac2d7b216f",
   "metadata": {},
   "outputs": [
    {
     "data": {
      "text/plain": [
       "'5'"
      ]
     },
     "execution_count": 14,
     "metadata": {},
     "output_type": "execute_result"
    }
   ],
   "source": [
    "y"
   ]
  },
  {
   "cell_type": "code",
   "execution_count": 15,
   "id": "8f4e6d51-66c3-4c00-ae51-7bd271858b3c",
   "metadata": {},
   "outputs": [
    {
     "data": {
      "text/plain": [
       "str"
      ]
     },
     "execution_count": 15,
     "metadata": {},
     "output_type": "execute_result"
    }
   ],
   "source": [
    "type(y)"
   ]
  },
  {
   "cell_type": "code",
   "execution_count": 35,
   "id": "345f5287-2132-4372-99d0-a8d945e10c91",
   "metadata": {},
   "outputs": [],
   "source": [
    "language=[\"python\",\"java\",\"c\"]"
   ]
  },
  {
   "cell_type": "code",
   "execution_count": 36,
   "id": "05ad2965-9bbe-4cbb-a0f4-dc7afa36105f",
   "metadata": {},
   "outputs": [],
   "source": [
    "enumerate_prime = enumerate(language)"
   ]
  },
  {
   "cell_type": "code",
   "execution_count": 37,
   "id": "e239b98c-519d-4853-856c-374f3465cf61",
   "metadata": {},
   "outputs": [
    {
     "data": {
      "text/plain": [
       "[(0, 'python'), (1, 'java'), (2, 'c')]"
      ]
     },
     "execution_count": 37,
     "metadata": {},
     "output_type": "execute_result"
    }
   ],
   "source": [
    "list(enumerate_prime) # index attached- adding indexs"
   ]
  },
  {
   "cell_type": "code",
   "execution_count": 38,
   "id": "75387c97-f4b5-4e0e-b085-bbccc33bea24",
   "metadata": {},
   "outputs": [],
   "source": [
    "enumerate_prime = enumerate(language,20)  #what if we want to change index,start at index 20-20 is position for counting"
   ]
  },
  {
   "cell_type": "code",
   "execution_count": 39,
   "id": "8a0cb6b1-616b-4b72-ae20-7ff50e626bbd",
   "metadata": {},
   "outputs": [
    {
     "data": {
      "text/plain": [
       "[(20, 'python'), (21, 'java'), (22, 'c')]"
      ]
     },
     "execution_count": 39,
     "metadata": {},
     "output_type": "execute_result"
    }
   ],
   "source": [
    "list(enumerate_prime) "
   ]
  },
  {
   "cell_type": "code",
   "execution_count": 42,
   "id": "458acdfc-2140-4963-8edb-090138a0fc12",
   "metadata": {},
   "outputs": [],
   "source": [
    "# List comprehension - a way of creating i=new iterable object from the existing iterable object"
   ]
  },
  {
   "cell_type": "code",
   "execution_count": 46,
   "id": "bdd98ae8-d751-4c97-b52b-72db00fa84f6",
   "metadata": {},
   "outputs": [],
   "source": [
    "lst= [1,2,3,4,5,6,7,8,9,10]"
   ]
  },
  {
   "cell_type": "code",
   "execution_count": 47,
   "id": "f4a44e3b-fe30-41ac-b500-9e564eebdfeb",
   "metadata": {},
   "outputs": [],
   "source": [
    "a = [x for x in lst]"
   ]
  },
  {
   "cell_type": "code",
   "execution_count": 48,
   "id": "557a5c65-205a-4319-83c0-e1bed8874034",
   "metadata": {},
   "outputs": [
    {
     "data": {
      "text/plain": [
       "[1, 2, 3, 4, 5, 6, 7, 8, 9, 10]"
      ]
     },
     "execution_count": 48,
     "metadata": {},
     "output_type": "execute_result"
    }
   ],
   "source": [
    "a"
   ]
  },
  {
   "cell_type": "code",
   "execution_count": 52,
   "id": "0d8a9b1e-d42a-4374-b7f6-743fb6fae63f",
   "metadata": {},
   "outputs": [
    {
     "name": "stdout",
     "output_type": "stream",
     "text": [
      "1\n",
      "2\n",
      "3\n",
      "4\n",
      "5\n",
      "6\n",
      "7\n",
      "8\n",
      "9\n",
      "10\n"
     ]
    }
   ],
   "source": [
    "for i in lst:\n",
    "    print(i)"
   ]
  },
  {
   "cell_type": "code",
   "execution_count": 53,
   "id": "11e8462c-f9c6-49db-8600-e6c3535d8892",
   "metadata": {},
   "outputs": [],
   "source": [
    "lst=[1,2,3,4,5,6,7,8,9,10]\n",
    "a=[x+1 for x in lst]"
   ]
  },
  {
   "cell_type": "code",
   "execution_count": 54,
   "id": "da2c2eef-e10a-4034-87a5-5414cda90ac8",
   "metadata": {},
   "outputs": [
    {
     "data": {
      "text/plain": [
       "[2, 3, 4, 5, 6, 7, 8, 9, 10, 11]"
      ]
     },
     "execution_count": 54,
     "metadata": {},
     "output_type": "execute_result"
    }
   ],
   "source": [
    "a"
   ]
  },
  {
   "cell_type": "code",
   "execution_count": 55,
   "id": "b8cd8a0a-b84a-4afd-8f92-f54d55752a65",
   "metadata": {},
   "outputs": [],
   "source": [
    "lst=[1,2,3,4,5,6,7,8,9,10]\n",
    "a=[x*2 for x in lst]"
   ]
  },
  {
   "cell_type": "code",
   "execution_count": 56,
   "id": "43bfeb51-0e90-41e6-8217-8dfcd974eee9",
   "metadata": {},
   "outputs": [
    {
     "data": {
      "text/plain": [
       "[2, 4, 6, 8, 10, 12, 14, 16, 18, 20]"
      ]
     },
     "execution_count": 56,
     "metadata": {},
     "output_type": "execute_result"
    }
   ],
   "source": [
    "a"
   ]
  },
  {
   "cell_type": "code",
   "execution_count": 58,
   "id": "cc726d12-bd61-45b6-8738-20bc7067dd7d",
   "metadata": {},
   "outputs": [],
   "source": [
    "lst=[1,2,3,4,5,6,7,8,9,10]\n",
    "\n",
    "c=[x for x in lst if x>4]"
   ]
  },
  {
   "cell_type": "code",
   "execution_count": 59,
   "id": "4bddfe82-a158-4fdc-bca0-72cf0a3aaac4",
   "metadata": {},
   "outputs": [
    {
     "data": {
      "text/plain": [
       "[5, 6, 7, 8, 9, 10]"
      ]
     },
     "execution_count": 59,
     "metadata": {},
     "output_type": "execute_result"
    }
   ],
   "source": [
    "c"
   ]
  },
  {
   "cell_type": "code",
   "execution_count": 60,
   "id": "f54200d0-3ccd-49f7-950f-04ebd0bfc590",
   "metadata": {},
   "outputs": [],
   "source": [
    "a=[]\n",
    "for x in lst:\n",
    "    if x>4:\n",
    "        a.append(x)"
   ]
  },
  {
   "cell_type": "code",
   "execution_count": 61,
   "id": "107d9400-6a75-45a5-bb41-39f9e0eef4cb",
   "metadata": {},
   "outputs": [
    {
     "data": {
      "text/plain": [
       "[5, 6, 7, 8, 9, 10]"
      ]
     },
     "execution_count": 61,
     "metadata": {},
     "output_type": "execute_result"
    }
   ],
   "source": [
    "a"
   ]
  },
  {
   "cell_type": "code",
   "execution_count": 63,
   "id": "1a96a18c-e73a-4a80-8dbf-261d66e59463",
   "metadata": {},
   "outputs": [
    {
     "data": {
      "text/plain": [
       "[2, 4, 6, 8, 10]"
      ]
     },
     "execution_count": 63,
     "metadata": {},
     "output_type": "execute_result"
    }
   ],
   "source": [
    "lst=[1,2,3,4,5,6,7,8,9,10]\n",
    "result=[i for i in lst if i%2==0]\n",
    "result"
   ]
  },
  {
   "cell_type": "code",
   "execution_count": 64,
   "id": "f5b88281-5744-43f1-8905-6faf3b2011d1",
   "metadata": {},
   "outputs": [],
   "source": [
    "lst=[1,2,3,4,5,6,7,8,9,10]\n",
    "d=[x for x in lst if x>4 if x%2==0]"
   ]
  },
  {
   "cell_type": "code",
   "execution_count": 65,
   "id": "dfb0f14a-6783-4732-8903-81c890dbb034",
   "metadata": {},
   "outputs": [
    {
     "data": {
      "text/plain": [
       "[6, 8, 10]"
      ]
     },
     "execution_count": 65,
     "metadata": {},
     "output_type": "execute_result"
    }
   ],
   "source": [
    "d"
   ]
  },
  {
   "cell_type": "code",
   "execution_count": 72,
   "id": "5b8a9caa-adc4-4ca3-8583-4a59c4bcee75",
   "metadata": {},
   "outputs": [],
   "source": [
    "# normal form\n",
    "a=[]\n",
    "for x in lst:\n",
    "    if x>4 and x%2==0:\n",
    "        a.append(x)"
   ]
  },
  {
   "cell_type": "code",
   "execution_count": 67,
   "id": "0b22b36a-faec-4123-b3ec-7b42b691130e",
   "metadata": {},
   "outputs": [
    {
     "data": {
      "text/plain": [
       "[6, 8, 10]"
      ]
     },
     "execution_count": 67,
     "metadata": {},
     "output_type": "execute_result"
    }
   ],
   "source": [
    "a"
   ]
  },
  {
   "cell_type": "code",
   "execution_count": 68,
   "id": "1d7fdffc-2649-4f39-90b0-4bffa4a0b557",
   "metadata": {},
   "outputs": [],
   "source": [
    "lst=[1,2,3,4,5,6,7,8,9,10]\n",
    "e=[x if x>4 else \"lessthan 4\" for x in lst]"
   ]
  },
  {
   "cell_type": "code",
   "execution_count": 69,
   "id": "b6e93283-0924-4755-8347-88b021cee6d2",
   "metadata": {},
   "outputs": [
    {
     "data": {
      "text/plain": [
       "['lessthan 4', 'lessthan 4', 'lessthan 4', 'lessthan 4', 5, 6, 7, 8, 9, 10]"
      ]
     },
     "execution_count": 69,
     "metadata": {},
     "output_type": "execute_result"
    }
   ],
   "source": [
    "e"
   ]
  },
  {
   "cell_type": "code",
   "execution_count": 73,
   "id": "b1eb654a-ffec-48b8-9635-77ba674d24e5",
   "metadata": {},
   "outputs": [],
   "source": [
    "#normal form\n",
    "a=[]\n",
    "for x in lst:\n",
    "    if x>4 and x%2==0:\n",
    "        a.append(x)\n",
    "    else:\n",
    "        a.append(\"lessthan 4\")"
   ]
  },
  {
   "cell_type": "code",
   "execution_count": 74,
   "id": "26111a75-c642-4f6f-94ba-10ff551dd1e0",
   "metadata": {},
   "outputs": [
    {
     "data": {
      "text/plain": [
       "['lessthan 4',\n",
       " 'lessthan 4',\n",
       " 'lessthan 4',\n",
       " 'lessthan 4',\n",
       " 'lessthan 4',\n",
       " 6,\n",
       " 'lessthan 4',\n",
       " 8,\n",
       " 'lessthan 4',\n",
       " 10]"
      ]
     },
     "execution_count": 74,
     "metadata": {},
     "output_type": "execute_result"
    }
   ],
   "source": [
    "a"
   ]
  },
  {
   "cell_type": "code",
   "execution_count": 81,
   "id": "2a1ae822-9299-4f52-b87c-77a14c26f042",
   "metadata": {},
   "outputs": [],
   "source": [
    "# elid\n",
    "lst=[1,2,3,4,5,6,7,8,9,10]\n",
    "\n",
    "f=[\"two\" if x%2==0 else \"three\" if x%3==0 else \"not a & b\" for x in lst]"
   ]
  },
  {
   "cell_type": "code",
   "execution_count": 82,
   "id": "6c1aaea2-6e65-41aa-a810-c66fe1b20040",
   "metadata": {},
   "outputs": [
    {
     "data": {
      "text/plain": [
       "['not a & b',\n",
       " 'two',\n",
       " 'three',\n",
       " 'two',\n",
       " 'not a & b',\n",
       " 'two',\n",
       " 'not a & b',\n",
       " 'two',\n",
       " 'three',\n",
       " 'two']"
      ]
     },
     "execution_count": 82,
     "metadata": {},
     "output_type": "execute_result"
    }
   ],
   "source": [
    "f"
   ]
  },
  {
   "cell_type": "code",
   "execution_count": 83,
   "id": "8683e776-1bde-4197-ad08-932981313bcf",
   "metadata": {},
   "outputs": [],
   "source": [
    "#normal form\n",
    "a=[]\n",
    "for x in lst:\n",
    "    if x%2==0:\n",
    "        a.append(\"two\")\n",
    "    elif x%3==0:\n",
    "        a.append(\"three\")\n",
    "    else:\n",
    "        a.append(\"not 2 & 3\")"
   ]
  },
  {
   "cell_type": "code",
   "execution_count": 84,
   "id": "9bc45804-0830-4662-80bc-4df7cc9b2b5a",
   "metadata": {},
   "outputs": [
    {
     "data": {
      "text/plain": [
       "['not 2 & 3',\n",
       " 'two',\n",
       " 'three',\n",
       " 'two',\n",
       " 'not 2 & 3',\n",
       " 'two',\n",
       " 'not 2 & 3',\n",
       " 'two',\n",
       " 'three',\n",
       " 'two']"
      ]
     },
     "execution_count": 84,
     "metadata": {},
     "output_type": "execute_result"
    }
   ],
   "source": [
    "a"
   ]
  },
  {
   "cell_type": "code",
   "execution_count": null,
   "id": "a10e737d-fc02-4e63-b818-ab28b7380324",
   "metadata": {},
   "outputs": [],
   "source": [
    "# next map, filter, reduce, set comprehension\n",
    "#exception handling-try,except,block"
   ]
  }
 ],
 "metadata": {
  "kernelspec": {
   "display_name": "Python 3 (ipykernel)",
   "language": "python",
   "name": "python3"
  },
  "language_info": {
   "codemirror_mode": {
    "name": "ipython",
    "version": 3
   },
   "file_extension": ".py",
   "mimetype": "text/x-python",
   "name": "python",
   "nbconvert_exporter": "python",
   "pygments_lexer": "ipython3",
   "version": "3.10.8"
  }
 },
 "nbformat": 4,
 "nbformat_minor": 5
}
